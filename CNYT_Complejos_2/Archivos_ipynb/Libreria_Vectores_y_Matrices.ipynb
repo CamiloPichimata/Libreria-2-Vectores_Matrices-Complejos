{
 "cells": [
  {
   "cell_type": "markdown",
   "metadata": {},
   "source": [
    "# Vectores y Matrices"
   ]
  },
  {
   "cell_type": "markdown",
   "metadata": {},
   "source": [
    "En el presente documento, se presentan algunas funciones definidas para las operaciones entre vectores y matrices, se presenta su codigo, y una prueba con su solución para corroborar el correcto funcionamiento de esta. "
   ]
  },
  {
   "cell_type": "code",
   "execution_count": 47,
   "metadata": {},
   "outputs": [],
   "source": [
    "import Libreria_Complejos as LC\n",
    "import math"
   ]
  },
  {
   "cell_type": "markdown",
   "metadata": {},
   "source": [
    "## 1. Adición de vectores complejos"
   ]
  },
  {
   "cell_type": "code",
   "execution_count": 48,
   "metadata": {},
   "outputs": [],
   "source": [
    "def adicion_vectores_complejos(vc_1, vc_2):    # vc_n = Vector Complejo No. n\n",
    "    \"\"\"\n",
    "    La función recibe 2 vectores de números complejos y retorna su suma componente a componente.\n",
    "    \"\"\"\n",
    "    return adicion_matrices_complejas(vc_1, vc_2)"
   ]
  },
  {
   "cell_type": "code",
   "execution_count": 49,
   "metadata": {},
   "outputs": [
    {
     "data": {
      "text/plain": [
       "[[[16, 0]], [[1, 1]], [[3, -9]]]"
      ]
     },
     "execution_count": 49,
     "metadata": {},
     "output_type": "execute_result"
    }
   ],
   "source": [
    "vc_1 = [[[ 8, 3]], \n",
    "        [[-1,-4]],\n",
    "        [[ 0,-9]]]\n",
    "\n",
    "vc_2 = [[[ 8,-3]],\n",
    "        [[ 2, 5]],\n",
    "        [[ 3, 0]]]\n",
    "\n",
    "adicion_vectores_complejos(vc_1, vc_2)"
   ]
  },
  {
   "cell_type": "markdown",
   "metadata": {},
   "source": [
    "## 2. Inverso (aditivo) de un vector complejo"
   ]
  },
  {
   "cell_type": "code",
   "execution_count": 50,
   "metadata": {},
   "outputs": [],
   "source": [
    "def inverso_aditivo_vc(vc_1):\n",
    "    \"\"\"\n",
    "    La función recibe un vector de números complejos y multiplica por (-1) la parte real y la parte imaginaria de cada uno de los complejos que conforman el vector.\n",
    "    \"\"\"\n",
    "    return inverso_aditivo_mc(vc_1)"
   ]
  },
  {
   "cell_type": "code",
   "execution_count": 51,
   "metadata": {},
   "outputs": [
    {
     "data": {
      "text/plain": [
       "[[[5, -2]], [[-3, 0]], [[0, 1]]]"
      ]
     },
     "execution_count": 51,
     "metadata": {},
     "output_type": "execute_result"
    }
   ],
   "source": [
    "vc_1 = [[[-5, 2]],\n",
    "        [[ 3, 0]],\n",
    "        [[ 0,-1]]]\n",
    "\n",
    "inverso_aditivo_vc(vc_1)"
   ]
  },
  {
   "cell_type": "markdown",
   "metadata": {},
   "source": [
    "## 3. Multiplicación de un escalar por un vector complejo "
   ]
  },
  {
   "cell_type": "code",
   "execution_count": 52,
   "metadata": {},
   "outputs": [],
   "source": [
    "def mult_escalar_vector(e, vc_1):\n",
    "    \"\"\"\n",
    "    La función recibe un número escalar complejo y un vector de números complejos, luego retorna el producto o multiplicación de dicho escalar por cada una de las componentes del vector recibido.\n",
    "    \"\"\"\n",
    "    vc_1 = mult_escalar_matriz(e, vc_1)\n",
    "    return vc_1"
   ]
  },
  {
   "cell_type": "code",
   "execution_count": 53,
   "metadata": {},
   "outputs": [
    {
     "data": {
      "text/plain": [
       "[[[-3, -7], [2, 0], [7, 11]]]"
      ]
     },
     "execution_count": 53,
     "metadata": {},
     "output_type": "execute_result"
    }
   ],
   "source": [
    "e = [-1,1]\n",
    "vc_1 = [[[-2,5], [-1,-1], [2,-9]]]\n",
    "\n",
    "mult_escalar_matriz(e, vc_1)"
   ]
  },
  {
   "cell_type": "markdown",
   "metadata": {},
   "source": [
    "## 4. Adición de matrices complejas "
   ]
  },
  {
   "cell_type": "code",
   "execution_count": 54,
   "metadata": {},
   "outputs": [],
   "source": [
    "def adicion_matrices_complejas(mc_1, mc_2):    # mc_n = Matriz Compleja No. n\n",
    "    \"\"\"\n",
    "    La función recibe dos matrices del mismo tamaño y devuelve su suma componente a componente.\n",
    "    \"\"\"\n",
    "    if len(mc_1)==len(mc_2) and len(mc_1[0])==len(mc_2[0]):\n",
    "        rta = crear_matriz(mc_1, mc_2)\n",
    "        for i in range(len(mc_1)):  #Filas matriz 1\n",
    "            for j in range(len(mc_2[0])):  #Columnas matriz 2\n",
    "                rta[i][j] = LC.suma(mc_1[i][j], mc_2[i][j])\n",
    "        return rta\n",
    "    else:\n",
    "        return \"Las matrices no tienen el mismo tamaño\""
   ]
  },
  {
   "cell_type": "code",
   "execution_count": 55,
   "metadata": {},
   "outputs": [
    {
     "data": {
      "text/plain": [
       "[[[-15, -5], [-10, -6], [7, 3]],\n",
       " [[4, 17], [6, -7], [14, -10]],\n",
       " [[5, 5], [2, -1], [-2, -1]]]"
      ]
     },
     "execution_count": 55,
     "metadata": {},
     "output_type": "execute_result"
    }
   ],
   "source": [
    "mc_1 = [[[-8,-3], [-6, -4], [ 0,-4]],\n",
    "        [[-1, 8], [ 6,-10], [ 8,-5]],\n",
    "        [[ 4, 0], [ 8,  5], [-7,-9]]]\n",
    "\n",
    "mc_2 = [[[-7,-2], [-4,-2], [7, 7]],\n",
    "        [[ 5, 9], [ 0, 3], [6,-5]],\n",
    "        [[ 1, 5], [-6,-6], [5, 8]]]\n",
    "\n",
    "adicion_matrices_complejas(mc_1, mc_2)"
   ]
  },
  {
   "cell_type": "markdown",
   "metadata": {},
   "source": [
    "## 5. Inversa (aditiva) de una matriz compleja "
   ]
  },
  {
   "cell_type": "code",
   "execution_count": 56,
   "metadata": {},
   "outputs": [],
   "source": [
    "def inverso_aditivo_mc(mc_1):\n",
    "    \"\"\"\n",
    "    La función recibe una matriz de números complejos y multiplica por (-1) la parte real y la parte imaginaria de cada una de las posiciones que conforman la matriz original.\n",
    "    \"\"\"\n",
    "    for i in range(len(mc_1)):  #Filas\n",
    "        for j in range(len(mc_1[0])):  #Columnas\n",
    "            mc_1[i][j] = [mc_1[i][j][0] * -1, mc_1[i][j][1] * -1]\n",
    "    return mc_1"
   ]
  },
  {
   "cell_type": "code",
   "execution_count": 57,
   "metadata": {},
   "outputs": [
    {
     "data": {
      "text/plain": [
       "[[[-7, -3], [1, -7]], [[9, 4], [7, 9]]]"
      ]
     },
     "execution_count": 57,
     "metadata": {},
     "output_type": "execute_result"
    }
   ],
   "source": [
    "mc_1 = [[[ 7, 3], [-1, 7]],\n",
    "        [[-9,-4], [-7,-9]]]\n",
    "\n",
    "inverso_aditivo_mc(mc_1)"
   ]
  },
  {
   "cell_type": "markdown",
   "metadata": {},
   "source": [
    "## 6. Multiplicación de un escalar por una matriz compleja"
   ]
  },
  {
   "cell_type": "code",
   "execution_count": 58,
   "metadata": {},
   "outputs": [],
   "source": [
    "def mult_escalar_matriz(e, mc_1):    # e = escalar\n",
    "    \"\"\"\n",
    "    La función recibe un número escalar complejo y una matriz de números complejos, luego retorna el producto o multiplicación de dicho escalar por cada una de las posiciones de la matriz recibida.\n",
    "    \"\"\"\n",
    "    for i in range(len(mc_1)):  #Filas\n",
    "        for j in range(len(mc_1[0])):  #Columnas\n",
    "            mc_1[i][j] = LC.producto(mc_1[i][j], e)\n",
    "    return mc_1"
   ]
  },
  {
   "cell_type": "code",
   "execution_count": 59,
   "metadata": {
    "scrolled": false
   },
   "outputs": [
    {
     "data": {
      "text/plain": [
       "[[[0, 13], [-4, 32]], [[22, 32], [28, 10]]]"
      ]
     },
     "execution_count": 59,
     "metadata": {},
     "output_type": "execute_result"
    }
   ],
   "source": [
    "e = [-2,3]\n",
    "mc_1 = [[[3,- 2], [ 8,-4]],\n",
    "        [[4,-10], [-2,-8]]]\n",
    "\n",
    "mult_escalar_matriz(e, mc_1)"
   ]
  },
  {
   "cell_type": "markdown",
   "metadata": {},
   "source": [
    "## 7. Tranpuesta de una matriz / vector "
   ]
  },
  {
   "cell_type": "code",
   "execution_count": 60,
   "metadata": {},
   "outputs": [],
   "source": [
    "def transpuesta(mvc_1):    # mvc = Matriz o Vector de Complejos\n",
    "    \"\"\"\n",
    "    La función recibe una matriz o un vector de números complejos, y retorna su transpuesta.\n",
    "    \"\"\"\n",
    "    rta = crear_matriz1(len(mvc_1[0]), len(mvc_1))\n",
    "    for i in range (len(mvc_1[0])):\n",
    "        for j in range (len(mvc_1)):\n",
    "            rta[i][j] = mvc_1[j][i]\n",
    "    return rta"
   ]
  },
  {
   "cell_type": "code",
   "execution_count": 61,
   "metadata": {},
   "outputs": [
    {
     "data": {
      "text/plain": [
       "[[[5, 9], [8, 2]], [[-7, -5], [-3, -7]], [[-1, -4], [7, -8]]]"
      ]
     },
     "execution_count": 61,
     "metadata": {},
     "output_type": "execute_result"
    }
   ],
   "source": [
    "mvc_1 = [[[5,9], [-7,-5], [-1,-4]],\n",
    "         [[8,2], [-3,-7], [ 7,-8]]]\n",
    "\n",
    "mvc_2 = [[[3, 2], [4, 5]]]\n",
    "\n",
    "mvc_3 = [[[4, 3]],\n",
    "         [[8,-7]]]\n",
    "\n",
    "transpuesta(mvc_1)"
   ]
  },
  {
   "cell_type": "markdown",
   "metadata": {},
   "source": [
    "## 8. Conjugada de una matriz / vector "
   ]
  },
  {
   "cell_type": "code",
   "execution_count": 62,
   "metadata": {},
   "outputs": [],
   "source": [
    "def conjugada_mv(mvc_1):\n",
    "    \"\"\"\n",
    "    La función recibe un vector o una matriz de números complejos, y retorna su conjugado(a).\n",
    "    \"\"\"\n",
    "    for i in range(len(mvc_1)):\n",
    "        for j in range(len(mvc_1[0])):\n",
    "            mvc_1[i][j] = LC.conjugado(mvc_1[i][j])\n",
    "    return mvc_1"
   ]
  },
  {
   "cell_type": "code",
   "execution_count": 63,
   "metadata": {},
   "outputs": [
    {
     "data": {
      "text/plain": [
       "[[[-6, -1], [3, -8]], [[2, 6], [3, 0]]]"
      ]
     },
     "execution_count": 63,
     "metadata": {},
     "output_type": "execute_result"
    }
   ],
   "source": [
    "mvc_1 = [[[-6, 1], [3,8]],\n",
    "         [[ 2,-6], [3,0]]]\n",
    "\n",
    "conjugada_mv(mvc_1)"
   ]
  },
  {
   "cell_type": "markdown",
   "metadata": {},
   "source": [
    "## 9. Adjunta (daga) de una matriz / vector"
   ]
  },
  {
   "cell_type": "code",
   "execution_count": 64,
   "metadata": {},
   "outputs": [],
   "source": [
    "def adjunta(mvc_1):\n",
    "    \"\"\"\n",
    "    La función recibe un vector o una matriz de números complejos, y retorna su adjunta.\n",
    "    \"\"\"\n",
    "    rta = transpuesta(mvc_1)\n",
    "    rta = conjugada_mv(rta)\n",
    "    return rta"
   ]
  },
  {
   "cell_type": "code",
   "execution_count": 65,
   "metadata": {},
   "outputs": [
    {
     "data": {
      "text/plain": [
       "[[[7, -7], [5, 0]], [[3, -8], [8, 6]], [[8, -4], [-10, 1]]]"
      ]
     },
     "execution_count": 65,
     "metadata": {},
     "output_type": "execute_result"
    }
   ],
   "source": [
    "mvc_1 = [[[7,7], [3, 8], [  8, 4]],\n",
    "         [[5,0], [8,-6], [-10,-1]]]\n",
    "\n",
    "adjunta(mvc_1)"
   ]
  },
  {
   "cell_type": "markdown",
   "metadata": {},
   "source": [
    "## 10. Producto de dos matrices"
   ]
  },
  {
   "cell_type": "code",
   "execution_count": 66,
   "metadata": {},
   "outputs": [],
   "source": [
    "def producto_matricial(mc_1, mc_2):\n",
    "    \n",
    "    \"La función recibe dos matrices (con tamaños compatibles) y devuelve su producto.\"\n",
    "    \n",
    "    if len(mc_1[0]) == len(mc_2):\n",
    "        rta = crear_matriz(mc_1, mc_2)\n",
    "        for i in range(len(mc_1)):  # Filas matriz 1\n",
    "            for j in range(len(mc_2[0])):  # Columnas matriz 2\n",
    "                for k in range(len(mc_1[0])):\n",
    "                    rta[i][j] = LC.suma(rta[i][j], LC.producto(mc_1[i][k], mc_2[k][j]))\n",
    "        return rta\n",
    "    else:\n",
    "        return \"El tamaño de las matrices no es el apropiado\""
   ]
  },
  {
   "cell_type": "code",
   "execution_count": 67,
   "metadata": {
    "scrolled": true
   },
   "outputs": [
    {
     "name": "stdout",
     "output_type": "stream",
     "text": [
      "[[[-33, 153], [120, 0], [-44, -22]], [[87, 0], [-26, -117], [107, 70]], [[0, 165], [147, 26], [69, -36]]]\n",
      "\n",
      "El tamaño de las matrices no es el apropiado\n"
     ]
    }
   ],
   "source": [
    "mc_1 = [[[-6,2], [ 0,6], [ 7, 2]],\n",
    "        [[ 6,9], [ 7,7], [-6,-6]],\n",
    "        [[ 5,8], [-6,8], [ 6, 9]]]\n",
    "\n",
    "mc_2 = [[[9,-6], [-3,-4], [ 5,-2]],\n",
    "        [[3, 6], [-1,-5], [ 0,-5]],\n",
    "        [[9, 9], [ 8,-4], [-8,-4]]]\n",
    "\n",
    "mc_3 = [[[2,1], [3, 0], [1,-1]],\n",
    "        [[0,0], [0,-2], [7,-3]],\n",
    "        [[3,0], [0, 0], [1,-2]]]\n",
    "\n",
    "mc_4 = [[[0,-1], [1,0]],\n",
    "        [[0, 0], [0,1]]]\n",
    "\n",
    "print(producto_matricial(mc_1, mc_2))\n",
    "print()\n",
    "print(producto_matricial(mc_3, mc_4))"
   ]
  },
  {
   "cell_type": "markdown",
   "metadata": {},
   "source": [
    "## 11. Calculo de la \"acción\" de una matriz sobre un vector"
   ]
  },
  {
   "cell_type": "code",
   "execution_count": 68,
   "metadata": {},
   "outputs": [],
   "source": [
    "def accion_mc_vc(mc_1, vc_1):\n",
    "    \"\"\"\n",
    "    La función recibe una matriz y un vector de números complejos, luego calcula la acción de dicha matriz sobre el vector recibido.\n",
    "    \"\"\"\n",
    "    return producto_matricial(mc_1,vc_1)"
   ]
  },
  {
   "cell_type": "code",
   "execution_count": 69,
   "metadata": {},
   "outputs": [
    {
     "data": {
      "text/plain": [
       "[[[54, -32]], [[0, 17]], [[41, 30]]]"
      ]
     },
     "execution_count": 69,
     "metadata": {},
     "output_type": "execute_result"
    }
   ],
   "source": [
    "mc_1 = [[[-1, 5], [1,-7], [-6,  3]],\n",
    "        [[-3,-9], [2,-5], [ 1,-10]],\n",
    "        [[-6, 5], [6,-5], [ 3, -2]]]\n",
    "\n",
    "vc_1 = [[[ 1,-3]],\n",
    "        [[ 4, 3]],\n",
    "        [[-3, 1]]]\n",
    "\n",
    "accion_mc_vc(mc_1, vc_1)"
   ]
  },
  {
   "cell_type": "markdown",
   "metadata": {},
   "source": [
    "## 12. Producto interno de dos vectores"
   ]
  },
  {
   "cell_type": "code",
   "execution_count": 70,
   "metadata": {},
   "outputs": [],
   "source": [
    "def prod_interno_v(vc_1, vc_2):\n",
    "    \"\"\"\n",
    "    La función recibe dos vectores de números complejos, y retorna el producto entre la adjunta del primer vector y el segunto vector.\n",
    "    \"\"\"\n",
    "    rta = producto_matricial(adjunta(vc_1), vc_2)\n",
    "    return rta"
   ]
  },
  {
   "cell_type": "code",
   "execution_count": 71,
   "metadata": {},
   "outputs": [
    {
     "data": {
      "text/plain": [
       "[[[4, 1]]]"
      ]
     },
     "execution_count": 71,
     "metadata": {},
     "output_type": "execute_result"
    }
   ],
   "source": [
    "vc_1 = [[[ 2,-1]],\n",
    "        [[-8,-5]],\n",
    "        [[-2,-6]]]\n",
    "\n",
    "vc_2 = [[[ 6,-3]],\n",
    "        [[ 5,-1]],\n",
    "        [[-6,-2]]]\n",
    "\n",
    "prod_interno_v(vc_1, vc_2)"
   ]
  },
  {
   "cell_type": "markdown",
   "metadata": {},
   "source": [
    "## 13. Norma de un vector"
   ]
  },
  {
   "cell_type": "code",
   "execution_count": 72,
   "metadata": {},
   "outputs": [],
   "source": [
    "def norma_v(vc_1):\n",
    "    \"\"\"\n",
    "    La función recibe un vector de números complejos y retorna su norma o magnitud.\n",
    "    \"\"\"\n",
    "    rta = prod_interno_v(vc_1, vc_1)\n",
    "    return math.sqrt(rta[0][0][0])"
   ]
  },
  {
   "cell_type": "code",
   "execution_count": 73,
   "metadata": {},
   "outputs": [
    {
     "data": {
      "text/plain": [
       "10.0"
      ]
     },
     "execution_count": 73,
     "metadata": {},
     "output_type": "execute_result"
    }
   ],
   "source": [
    "vc_1 = [[[4, 5]],\n",
    "        [[3, 1]],\n",
    "        [[0,-7]]]\n",
    "\n",
    "norma_v(vc_1)"
   ]
  },
  {
   "cell_type": "markdown",
   "metadata": {},
   "source": [
    "## 14. Distancia entre dos vectores  "
   ]
  },
  {
   "cell_type": "code",
   "execution_count": 74,
   "metadata": {},
   "outputs": [],
   "source": [
    "def distancia_2v(vc_1, vc_2):\n",
    "    \"\"\"\n",
    "    La función recibe dos vectores complejos y retorna la distancia que existe entre cada uno de los vectores.\n",
    "    \"\"\"\n",
    "    rta = adicion_vectores_complejos(vc_1, inverso_aditivo_vc(vc_2))\n",
    "    return norma_v(rta)"
   ]
  },
  {
   "cell_type": "code",
   "execution_count": 75,
   "metadata": {},
   "outputs": [
    {
     "name": "stdout",
     "output_type": "stream",
     "text": [
      "12.0\n",
      "\n",
      "7.0710678118654755\n"
     ]
    }
   ],
   "source": [
    "vc_1 = [[[2, 7]],\n",
    "        [[4,-1]],\n",
    "        [[2,-4]]]\n",
    "\n",
    "vc_2 = [[[7, 8]],\n",
    "        [[2,-8]],\n",
    "        [[1, 4]]]\n",
    "\n",
    "vc_3 = [[[ 9,-7]],\n",
    "        [[-1,-6]]]\n",
    "\n",
    "vc_4 = [[[7,-8]],\n",
    "        [[5,-9]]]\n",
    "\n",
    "print(distancia_2v(vc_1, vc_2))\n",
    "print()\n",
    "print(distancia_2v(vc_3, vc_4))"
   ]
  },
  {
   "cell_type": "markdown",
   "metadata": {},
   "source": [
    "## 15. Revisar si una matriz es unitaria "
   ]
  },
  {
   "cell_type": "code",
   "execution_count": 76,
   "metadata": {},
   "outputs": [],
   "source": [
    "def mc_es_unitaria(mc_1):   \n",
    "    \"\"\"\n",
    "    La función recibe una matriz cuadrada y decide si es o no una matriz unitaria.\n",
    "    \"\"\"\n",
    "    if len(mc_1) == len(mc_1[0]):\n",
    "        mc_1t = adjunta(mc_1)\n",
    "        aux = producto_matricial(mc_1, mc_1t)\n",
    "        identidad = matriz_identidad(len(mc_1))\n",
    "        for i in range(len(mc_1)):\n",
    "            for j in range(len(mc_1)):\n",
    "                for k in range(2):\n",
    "                    if round(aux[i][j][k]) != identidad[i][j][k]:\n",
    "                        return False\n",
    "        return True\n",
    "    else:\n",
    "        return \"Las matriz no es cuadrada\""
   ]
  },
  {
   "cell_type": "code",
   "execution_count": 77,
   "metadata": {},
   "outputs": [
    {
     "name": "stdout",
     "output_type": "stream",
     "text": [
      "True\n",
      "\n",
      "False\n"
     ]
    }
   ],
   "source": [
    "mc_1 = [[[1/math.sqrt(2), 0], [0, 1/math.sqrt(2)]],\n",
    "        [[0, 1/math.sqrt(2)], [1/math.sqrt(2), 0]]]\n",
    "\n",
    "mc_2 = [[[0,1], [1,0], [0,0]],\n",
    "        [[0,0], [0,1], [1,0]],\n",
    "        [[1,0], [0,0], [0,1]]]\n",
    "\n",
    "print(mc_es_unitaria(mc_1))\n",
    "print()\n",
    "print(mc_es_unitaria(mc_2))"
   ]
  },
  {
   "cell_type": "markdown",
   "metadata": {},
   "source": [
    "## 16. Revisar si una matriz es Hermitiana"
   ]
  },
  {
   "cell_type": "code",
   "execution_count": 78,
   "metadata": {},
   "outputs": [],
   "source": [
    "def mc_es_hermitiana(mc_1):\n",
    "    \"\"\"\n",
    "    La función recibe una matriz cuadrada y decide si es o no una matriz hermitiana.\n",
    "    \"\"\"\n",
    "    if len(mc_1) == len(mc_1[0]):\n",
    "        mc_1t = crear_matriz1(len(mc_1), len(mc_1))\n",
    "        mc_1t = adjunta(mc_1)\n",
    "        for i in range(len(mc_1)):\n",
    "            for j in range(len(mc_1)):\n",
    "                for k in range(2):\n",
    "                    if mc_1[i][j][k] != mc_1t[i][j][k]:\n",
    "                        return False\n",
    "        return True\n",
    "    else:\n",
    "        return \"Las matrices no son cuadradas\""
   ]
  },
  {
   "cell_type": "code",
   "execution_count": 79,
   "metadata": {},
   "outputs": [
    {
     "name": "stdout",
     "output_type": "stream",
     "text": [
      "True\n",
      "\n",
      "False\n"
     ]
    }
   ],
   "source": [
    "mc_1 = [[[3,0], [2,-1], [0,-3]],\n",
    "        [[2,1], [0, 0], [1,-1]],\n",
    "        [[0,3], [1, 1], [0, 0]]]\n",
    "\n",
    "mc_2 = [[[1,0], [3,-1]],\n",
    "        [[3,1], [0, 1]]]\n",
    "\n",
    "print(mc_es_hermitiana(mc_1))\n",
    "print()\n",
    "print(mc_es_hermitiana(mc_2))"
   ]
  },
  {
   "cell_type": "markdown",
   "metadata": {},
   "source": [
    "## 17. Producto tensor de dos matrices / vectores"
   ]
  },
  {
   "cell_type": "code",
   "execution_count": 80,
   "metadata": {},
   "outputs": [],
   "source": [
    "def prod_tensor(mc_1, mc_2):\n",
    "    \"\"\"\n",
    "    La función recibe 2 matrices de números complejos (sin importar sus tamaños) y retorna su producto tensor.\n",
    "    \"\"\"\n",
    "    rta = crear_matriz1(len(mc_1)*len(mc_2), len(mc_1[0])*len(mc_2[0]))\n",
    "    for i in range(len(rta)):\n",
    "        for j in range(len(rta[0])):\n",
    "            rta[i][j] = LC.producto(mc_1[i//len(mc_2[0])][j//len(mc_2[0])], mc_2[i%len(mc_2)][j%len(mc_2)])\n",
    "    return rta"
   ]
  },
  {
   "cell_type": "code",
   "execution_count": 81,
   "metadata": {},
   "outputs": [
    {
     "data": {
      "text/plain": [
       "[[[-3, 1], [0, -4], [-2, 2], [0, 0], [0, 0], [0, 0]],\n",
       " [[-1, 5], [2, 4], [0, 4], [0, 0], [0, 0], [0, 0]],\n",
       " [[-3, -1], [2, 0], [1, 3], [0, 0], [0, 0], [0, 0]],\n",
       " [[-1, 2], [-2, -2], [0, 2], [-2, -1], [2, -2], [-2, 0]],\n",
       " [[2, 3], [3, 1], [2, 2], [-3, 2], [-1, 3], [-2, 2]],\n",
       " [[-2, 1], [1, -1], [2, 1], [-1, -2], [1, 1], [-1, 2]]]"
      ]
     },
     "execution_count": 81,
     "metadata": {},
     "output_type": "execute_result"
    }
   ],
   "source": [
    "mc_1 = [[[1,1], [0,0]],\n",
    "        [[1,0], [0,1]]]\n",
    "\n",
    "mc_2 = [[[-1,2], [-2,-2], [0,2]],\n",
    "        [[ 2,3], [ 3, 1], [2,2]],\n",
    "        [[-2,1], [ 1,-1], [2,1]]]\n",
    "\n",
    "prod_tensor(mc_1, mc_2)"
   ]
  },
  {
   "cell_type": "markdown",
   "metadata": {},
   "source": [
    "### Adicionales"
   ]
  },
  {
   "cell_type": "code",
   "execution_count": 82,
   "metadata": {},
   "outputs": [],
   "source": [
    "def crear_matriz(m_1, m_2):\n",
    "    \"\"\"\n",
    "    La función recibe dos matrices e inicializa una nueva copuesta de ceros, es decir, de la sigueinte manera: [0,0].\n",
    "    \"\"\"\n",
    "    matriz = []\n",
    "    filas = len(m_1)\n",
    "    columnas = len(m_2[0])\n",
    "    for i in range(filas):\n",
    "        matriz.append([[0, 0]] * columnas)\n",
    "    return matriz"
   ]
  },
  {
   "cell_type": "code",
   "execution_count": 83,
   "metadata": {},
   "outputs": [
    {
     "data": {
      "text/plain": [
       "[[[0, 0], [0, 0], [0, 0]], [[0, 0], [0, 0], [0, 0]]]"
      ]
     },
     "execution_count": 83,
     "metadata": {},
     "output_type": "execute_result"
    }
   ],
   "source": [
    "m_1 = [[[0,1], [2,2]],\n",
    "       [[4,4], [3,2]]] #2X2\n",
    "\n",
    "m_2 = [[[2,3], [4,5], [3,4]],\n",
    "       [[8,9], [3,5], [6,1]]] #2X3\n",
    "\n",
    "crear_matriz(m_1, m_2) #2X3"
   ]
  },
  {
   "cell_type": "code",
   "execution_count": 84,
   "metadata": {},
   "outputs": [],
   "source": [
    "def crear_matriz1(filas, columnas):\n",
    "    \"\"\"\n",
    "    La función recibe el número de filas y el número de columnas e inicializa una matriz compuesta de ceros, es decir, de la siguente manera: [0,0].\n",
    "    \"\"\"\n",
    "    matriz = []\n",
    "    for i in range(filas):\n",
    "        matriz.append([[0,0]] * columnas)\n",
    "    return matriz"
   ]
  },
  {
   "cell_type": "code",
   "execution_count": 85,
   "metadata": {},
   "outputs": [
    {
     "data": {
      "text/plain": [
       "[[[0, 0], [0, 0], [0, 0], [0, 0]],\n",
       " [[0, 0], [0, 0], [0, 0], [0, 0]],\n",
       " [[0, 0], [0, 0], [0, 0], [0, 0]],\n",
       " [[0, 0], [0, 0], [0, 0], [0, 0]],\n",
       " [[0, 0], [0, 0], [0, 0], [0, 0]],\n",
       " [[0, 0], [0, 0], [0, 0], [0, 0]]]"
      ]
     },
     "execution_count": 85,
     "metadata": {},
     "output_type": "execute_result"
    }
   ],
   "source": [
    "crear_matriz1(6, 4)"
   ]
  },
  {
   "cell_type": "code",
   "execution_count": 86,
   "metadata": {},
   "outputs": [],
   "source": [
    "def matriz_identidad(tamaño):\n",
    "    \"\"\"\n",
    "    La función recibe el támaño de una matriz cuadrada y genera la matriz identidad con dichas dimensiones.\n",
    "    \"\"\"\n",
    "    identidad = crear_matriz1(tamaño, tamaño)\n",
    "    for i in range(len(identidad)):\n",
    "        for j in range(len(identidad)):\n",
    "            if i == j:\n",
    "                identidad[i][j] = [1,0]\n",
    "            else:\n",
    "                identidad[i][j] = [0,0]      \n",
    "    return identidad"
   ]
  },
  {
   "cell_type": "code",
   "execution_count": 87,
   "metadata": {},
   "outputs": [
    {
     "name": "stdout",
     "output_type": "stream",
     "text": [
      "[[[1, 0], [0, 0], [0, 0]], [[0, 0], [1, 0], [0, 0]], [[0, 0], [0, 0], [1, 0]]]\n"
     ]
    }
   ],
   "source": [
    "print(matriz_identidad(3))"
   ]
  }
 ],
 "metadata": {
  "kernelspec": {
   "display_name": "Python 3",
   "language": "python",
   "name": "python3"
  },
  "language_info": {
   "codemirror_mode": {
    "name": "ipython",
    "version": 3
   },
   "file_extension": ".py",
   "mimetype": "text/x-python",
   "name": "python",
   "nbconvert_exporter": "python",
   "pygments_lexer": "ipython3",
   "version": "3.7.4"
  }
 },
 "nbformat": 4,
 "nbformat_minor": 2
}
